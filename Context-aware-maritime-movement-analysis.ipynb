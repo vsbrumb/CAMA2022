{
 "cells": [
  {
   "cell_type": "markdown",
   "id": "c97b04a1",
   "metadata": {},
   "source": [
    "# Context-aware Maritime Movement Analysis\n",
    "\n",
    "[![Binder](https://mybinder.org/badge_logo.svg)](https://mybinder.org/v2/gh/vsbrumb/CAMA2022/main?filepath=Context-aware-maritime-movement-analysis.ipynb)\n",
    "\n",
    "This notebook uses the open science \n",
    "\n",
    "\"Heterogeneous Integrated Dataset for Maritime Intelligence, Surveillance, and Reconnaissance\" (https://zenodo.org/record/1167595)\n",
    "\n",
    "by RAY, Cyril; DRÉO, Richard; CAMOSSI, Elena; JOUSSELME, Anne-Laure "
   ]
  },
  {
   "cell_type": "code",
   "execution_count": null,
   "id": "9d2110d5",
   "metadata": {
    "scrolled": false
   },
   "outputs": [],
   "source": [
    "import io\n",
    "from os.path import exists\n",
    "from urllib.request import urlretrieve\n",
    "from zipfile import ZipFile\n",
    "from datetime import timedelta\n",
    "\n",
    "import pandas as pd\n",
    "import geopandas as gpd\n",
    "import movingpandas as mpd\n",
    "import hvplot.pandas \n",
    "\n",
    "import warnings\n",
    "warnings.filterwarnings('ignore')\n",
    "\n",
    "mpd.show_versions()"
   ]
  },
  {
   "cell_type": "code",
   "execution_count": null,
   "id": "50eca4a2",
   "metadata": {},
   "outputs": [],
   "source": [
    "def download_from_zenodo(zip_file, url):\n",
    "    if not exists(zip_file):\n",
    "        urlretrieve(url, zip_file)"
   ]
  },
  {
   "cell_type": "markdown",
   "id": "dcfb37d6",
   "metadata": {},
   "source": [
    "The following cells only show a subset of the files included in https://zenodo.org/record/1167595. Visit the Zenodo page for a full overview"
   ]
  },
  {
   "cell_type": "code",
   "execution_count": null,
   "id": "f21015f9",
   "metadata": {},
   "outputs": [],
   "source": [
    "ais_zip_file = 'data/P1_AIS_Data.zip'\n",
    "download_from_zenodo(ais_zip_file, 'https://zenodo.org/record/1167595/files/%5BP1%5D%20AIS%20Data.zip?download=1')\n",
    "ports_zip_file = 'data/C1_Ports_Brittany.zip'\n",
    "download_from_zenodo(ports_zip_file, 'https://zenodo.org/record/1167595/files/%5BC1%5D%20Ports%20of%20Brittany.zip?download=1')\n",
    "fishing_areas_zip_file = 'data/C4_Fishing_areas.zip'\n",
    "download_from_zenodo(fishing_areas_zip_file, 'https://zenodo.org/record/1167595/files/%5BC4%5D%20Fishing%20Areas%20%28European%20commission%29.zip?download=1')"
   ]
  },
  {
   "cell_type": "code",
   "execution_count": null,
   "id": "2b1d9acc",
   "metadata": {},
   "outputs": [],
   "source": [
    "ports_gdf = gpd.read_file(ports_zip_file)\n",
    "fish_areas_gdf = gpd.read_file(fishing_areas_zip_file)\n",
    "ports_gdf.hvplot(title='Ports of Brittany', geo=True, tiles='OSM', hover_cols=['libelle_po']) * fish_areas_gdf.hvplot(geo=True, c='value', line_width=0, cmap='Oranges', alpha=0.5)"
   ]
  },
  {
   "cell_type": "code",
   "execution_count": null,
   "id": "7fdb5877",
   "metadata": {},
   "outputs": [],
   "source": [
    "MIN_TRAJ_LENGTH = 1000 # m\n",
    "RESAMPLING_INTERVAL = timedelta(minutes=1)\n",
    "NROWS = 10000\n",
    "\n",
    "def csv_to_traj_collection(csv_file_name):\n",
    "    with ZipFile(ais_zip_file) as z:\n",
    "        with z.open(csv_file_name) as f:\n",
    "            df = pd.read_csv(f, nrows=NROWS)\n",
    "            #print(df.head())\n",
    "            try:\n",
    "                df['t'] = pd.to_datetime(df['ts'],unit='s')\n",
    "                df.drop(columns=['ts'])\n",
    "            except:\n",
    "                df['t'] = pd.to_datetime(df['t'],unit='s')\n",
    "            df = df[['t', 'sourcemmsi', 'lon', 'lat']]\n",
    "            tc = mpd.TrajectoryCollection(df, 'sourcemmsi', x='lon', y='lat', t='t', min_length=MIN_TRAJ_LENGTH)\n",
    "            tc = mpd.MinTimeDeltaGeneralizer(tc).generalize(tolerance=RESAMPLING_INTERVAL)\n",
    "            return tc"
   ]
  },
  {
   "cell_type": "code",
   "execution_count": null,
   "id": "3561fc43",
   "metadata": {},
   "outputs": [],
   "source": [
    "sar_tc = csv_to_traj_collection(\"nari_dynamic_sar.csv\")\n",
    "sar_tc"
   ]
  },
  {
   "cell_type": "code",
   "execution_count": null,
   "id": "45745cb8",
   "metadata": {},
   "outputs": [],
   "source": [
    "sar_tc.hvplot(title=\"SAR Trajectories\", line_width=5, hover_cols=['sourcemmsi'])"
   ]
  },
  {
   "cell_type": "code",
   "execution_count": null,
   "id": "46ab0d60",
   "metadata": {
    "scrolled": false
   },
   "outputs": [],
   "source": [
    "tc = csv_to_traj_collection(\"nari_dynamic.csv\")\n",
    "tc"
   ]
  },
  {
   "cell_type": "code",
   "execution_count": null,
   "id": "9ac8e21a",
   "metadata": {},
   "outputs": [],
   "source": [
    "fising_area_plot = fish_areas_gdf.hvplot(geo=True, c='value', line_width=0, cmap='Oranges', alpha=0.5, tiles='OSM')\n",
    "port_plot = ports_gdf.hvplot(geo=True, hover_cols=['libelle_po'], color='black')\n",
    "ais_plot = tc.hvplot(title='AIS sample, ports, and fishing areas', line_width=5, hover_cols=['sourcemmsi'], tiles=None) \n",
    "fising_area_plot * port_plot * ais_plot"
   ]
  },
  {
   "cell_type": "code",
   "execution_count": null,
   "id": "ca1d9959",
   "metadata": {},
   "outputs": [],
   "source": []
  }
 ],
 "metadata": {
  "kernelspec": {
   "display_name": "Python 3 (ipykernel)",
   "language": "python",
   "name": "python3"
  },
  "language_info": {
   "codemirror_mode": {
    "name": "ipython",
    "version": 3
   },
   "file_extension": ".py",
   "mimetype": "text/x-python",
   "name": "python",
   "nbconvert_exporter": "python",
   "pygments_lexer": "ipython3",
   "version": "3.7.12"
  }
 },
 "nbformat": 4,
 "nbformat_minor": 5
}
